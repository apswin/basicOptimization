{
 "cells": [
  {
   "cell_type": "markdown",
   "metadata": {},
   "source": [
    "# MGMTMSA 403 Lecture 2: Real Estate Development Example\n",
    "\n",
    "The integer program for the real estate development problem is given by \n",
    "\n",
    "\\begin{align}\n",
    "\\underset{{\\bf x}}{\\text{max}} \\;\\; & \\sum_{i = 1}^n r_i x_i \\\\\n",
    "\\text{s.t.} \\;\\; & \\sum_{i = 1}^n c_i x_i \\le B\\\\\n",
    "& x_i \\in \\{0,1\\} \\quad i = 1,\\ldots,n.\n",
    "\\end{align}"
   ]
  },
  {
   "cell_type": "markdown",
   "metadata": {},
   "source": [
    "The code below implements the above IP with randomly generated data."
   ]
  },
  {
   "cell_type": "code",
   "execution_count": 2,
   "metadata": {},
   "outputs": [
    {
     "name": "stdout",
     "output_type": "stream",
     "text": [
      "Optimize a model with 1 rows, 60 columns and 60 nonzeros\n",
      "Variable types: 0 continuous, 60 integer (60 binary)\n",
      "Coefficient statistics:\n",
      "  Matrix range     [5e-01, 1e+01]\n",
      "  Objective range  [2e-02, 1e+00]\n",
      "  Bounds range     [1e+00, 1e+00]\n",
      "  RHS range        [1e+01, 1e+01]\n",
      "Found heuristic solution: objective 1.4178148\n",
      "Presolve removed 0 rows and 23 columns\n",
      "Presolve time: 0.00s\n",
      "Presolved: 1 rows, 37 columns, 37 nonzeros\n",
      "Found heuristic solution: objective 6.7024028\n",
      "Variable types: 0 continuous, 37 integer (37 binary)\n",
      "\n",
      "Root relaxation: objective 7.068890e+00, 1 iterations, 0.00 seconds\n",
      "\n",
      "    Nodes    |    Current Node    |     Objective Bounds      |     Work\n",
      " Expl Unexpl |  Obj  Depth IntInf | Incumbent    BestBd   Gap | It/Node Time\n",
      "\n",
      "     0     0    7.06889    0    1    6.70240    7.06889  5.47%     -    0s\n",
      "H    0     0                       6.7985159    7.06889  3.98%     -    0s\n",
      "     0     0     cutoff    0         6.79852    6.79852  0.00%     -    0s\n",
      "\n",
      "Cutting planes:\n",
      "  Cover: 1\n",
      "\n",
      "Explored 1 nodes (3 simplex iterations) in 0.03 seconds\n",
      "Thread count was 8 (of 8 available processors)\n",
      "\n",
      "Solution count 4: 6.79852 6.7024 1.41781 1.3463 \n",
      "\n",
      "Optimal solution found (tolerance 1.00e-04)\n",
      "Best objective 6.798515879992e+00, best bound 6.798515879992e+00, gap 0.0000%\n",
      "[0.0, 0.0, -0.0, -0.0, -0.0, -0.0, 0.0, 0.0, 0.0, 1.0, 1.0, 1.0, 0.0, 1.0, -0.0, 1.0, 0.0, -0.0, -0.0, 0.0, 1.0, 0.0, 0.0, 1.0, 1.0, 0.0, 0.0, -0.0, 0.0, 0.0, 0.0, 0.0, -0.0, -0.0, -0.0, 0.0, -0.0, -0.0, 0.0, 1.0, 0.0, -0.0, -0.0, 0.0, 0.0, 0.0, -0.0, -0.0, 0.0, -0.0, -0.0, -0.0, 0.0, 0.0, 0.0, 0.0, 0.0, 0.0, -0.0, -0.0]\n"
     ]
    }
   ],
   "source": [
    "# Import gurobi and numpy\n",
    "from gurobipy import *\n",
    "import numpy as np\n",
    "\n",
    "# Define model and parameters. \n",
    "mod = Model()\n",
    "\n",
    "n = 60;\n",
    "B = 10;\n",
    "c = 10*np.random.rand(n)\n",
    "r = np.random.rand(n)\n",
    "\n",
    "# Define decision variables. Note that vtype = GRB.BINARY defines all variables to be binary.\n",
    "x = mod.addVars(n, vtype = GRB.BINARY)\n",
    "\n",
    "# Budget constraint\n",
    "budget_con = mod.addConstr(sum(c[i]*x[i] for i in range(n)) <= B)\n",
    "\n",
    "# Create the objective function, and set it to be maximized.\n",
    "mod.setObjective(sum(r[i]*x[i] for i in range(n)), GRB.MAXIMIZE)\n",
    "\n",
    "mod.update()\n",
    "\n",
    "mod.optimize()\n",
    "\n",
    "x_opt = [x[i].x for i in range(n)]\n",
    "\n",
    "print(x_opt)\n",
    "\n"
   ]
  },
  {
   "cell_type": "code",
   "execution_count": null,
   "metadata": {},
   "outputs": [],
   "source": []
  },
  {
   "cell_type": "code",
   "execution_count": null,
   "metadata": {},
   "outputs": [],
   "source": []
  }
 ],
 "metadata": {
  "kernelspec": {
   "display_name": "Python 3",
   "language": "python",
   "name": "python3"
  },
  "language_info": {
   "codemirror_mode": {
    "name": "ipython",
    "version": 3
   },
   "file_extension": ".py",
   "mimetype": "text/x-python",
   "name": "python",
   "nbconvert_exporter": "python",
   "pygments_lexer": "ipython3",
   "version": "3.7.3"
  }
 },
 "nbformat": 4,
 "nbformat_minor": 2
}
